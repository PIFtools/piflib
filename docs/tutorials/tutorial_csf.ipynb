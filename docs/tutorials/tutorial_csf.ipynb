{
 "cells": [
  {
   "cell_type": "code",
   "execution_count": 1,
   "metadata": {
    "pycharm": {
     "is_executing": true
    }
   },
   "outputs": [],
   "source": [
    "import pandas as pd\n",
    "import seaborn as sns\n",
    "import matplotlib.pyplot as plt\n",
    "import matplotlib\n",
    "\n",
    "from piflib.data_util import calculate_distribution\n",
    "from tutorial_helpers import horizontal_bar_plot, compute_posterior_distributions\n",
    "import piflib"
   ]
  },
  {
   "cell_type": "markdown",
   "metadata": {},
   "source": [
    "# _Cell surprise factor_ (CSF) as a measure of information risk\n",
    "\n",
    "The cell information gain (CIG), as introduced in the ACS data sharing white paper, offers a novel way to reason about\n",
    "the personal information contained in a dataset. By measuring the personal information factor on a cell level, an\n",
    "analyst is able to quickly locate the areas in the dataset that need the most attention.\n",
    "\n",
    "However, we identified two problems with this approach and propose a new measure to address those issues.\n",
    "\n",
    "### Problem 1: overcounting\n",
    "\n",
    "The CIG is defined as the KL-divergence of the prior distribution of the feature and the posterior of that feature,\n",
    "given all other features. This means though that the CIG value is a measure of surprise of how the distribution of the\n",
    "values changed, i.e., a combination of **all** the values in the posterior distribution. Thus, the CIG is not really a\n",
    "fair representation of the risk of the single cell value, but rather represents the risk of that feature for the cohort\n",
    "comprising that particular posterior distribution.\n",
    "\n",
    "For example, consider the following dataset:\n"
   ]
  },
  {
   "cell_type": "code",
   "execution_count": 2,
   "metadata": {},
   "outputs": [
    {
     "data": {
      "text/html": [
       "<div>\n",
       "<style scoped>\n",
       "    .dataframe tbody tr th:only-of-type {\n",
       "        vertical-align: middle;\n",
       "    }\n",
       "\n",
       "    .dataframe tbody tr th {\n",
       "        vertical-align: top;\n",
       "    }\n",
       "\n",
       "    .dataframe thead th {\n",
       "        text-align: right;\n",
       "    }\n",
       "</style>\n",
       "<table border=\"1\" class=\"dataframe\">\n",
       "  <thead>\n",
       "    <tr style=\"text-align: right;\">\n",
       "      <th></th>\n",
       "      <th>A</th>\n",
       "      <th>B</th>\n",
       "    </tr>\n",
       "  </thead>\n",
       "  <tbody>\n",
       "    <tr>\n",
       "      <th>0</th>\n",
       "      <td>a</td>\n",
       "      <td>g</td>\n",
       "    </tr>\n",
       "    <tr>\n",
       "      <th>1</th>\n",
       "      <td>a</td>\n",
       "      <td>h</td>\n",
       "    </tr>\n",
       "    <tr>\n",
       "      <th>2</th>\n",
       "      <td>a</td>\n",
       "      <td>i</td>\n",
       "    </tr>\n",
       "    <tr>\n",
       "      <th>3</th>\n",
       "      <td>b</td>\n",
       "      <td>g</td>\n",
       "    </tr>\n",
       "    <tr>\n",
       "      <th>4</th>\n",
       "      <td>b</td>\n",
       "      <td>g</td>\n",
       "    </tr>\n",
       "    <tr>\n",
       "      <th>5</th>\n",
       "      <td>c</td>\n",
       "      <td>h</td>\n",
       "    </tr>\n",
       "    <tr>\n",
       "      <th>6</th>\n",
       "      <td>c</td>\n",
       "      <td>h</td>\n",
       "    </tr>\n",
       "    <tr>\n",
       "      <th>7</th>\n",
       "      <td>c</td>\n",
       "      <td>h</td>\n",
       "    </tr>\n",
       "    <tr>\n",
       "      <th>8</th>\n",
       "      <td>c</td>\n",
       "      <td>i</td>\n",
       "    </tr>\n",
       "  </tbody>\n",
       "</table>\n",
       "</div>"
      ],
      "text/plain": [
       "   A  B\n",
       "0  a  g\n",
       "1  a  h\n",
       "2  a  i\n",
       "3  b  g\n",
       "4  b  g\n",
       "5  c  h\n",
       "6  c  h\n",
       "7  c  h\n",
       "8  c  i"
      ]
     },
     "execution_count": 2,
     "metadata": {},
     "output_type": "execute_result"
    }
   ],
   "source": [
    "data = {'A': ['a', 'a', 'a', 'b', 'b', 'c', 'c', 'c', 'c'],\n",
    "        'B': ['g', 'h', 'i', 'g', 'g', 'h', 'h', 'h', 'i']}\n",
    "df = pd.DataFrame(data)\n",
    "df"
   ]
  },
  {
   "cell_type": "markdown",
   "metadata": {},
   "source": [
    "The prior distributions for the features 'A' and 'B' look like this:"
   ]
  },
  {
   "cell_type": "code",
   "execution_count": 3,
   "metadata": {},
   "outputs": [
    {
     "data": {
      "image/png": "[encoded data removed]",
      "text/plain": [
       "<Figure size 662.4x360 with 1 Axes>"
      ]
     },
     "metadata": {
      "needs_background": "light"
     },
     "output_type": "display_data"
    },
    {
     "data": {
      "image/png": "[encoded data removed]",
      "text/plain": [
       "<Figure size 662.4x360 with 1 Axes>"
      ]
     },
     "metadata": {
      "needs_background": "light"
     },
     "output_type": "display_data"
    }
   ],
   "source": [
    "for feature in df.columns:\n",
    "    dist = calculate_distribution(df[feature])\n",
    "    horizontal_bar_plot({'': list(dist.values())}, dist.keys())\n",
    "    plt.title(f'Prior distribution of: {feature}')\n",
    "\n"
   ]
  },
  {
   "cell_type": "markdown",
   "metadata": {},
   "source": [
    "And these are the posterior distributions:"
   ]
  },
  {
   "cell_type": "code",
   "execution_count": 4,
   "metadata": {},
   "outputs": [
    {
     "data": {
      "image/png": "[encoded data removed]",
      "text/plain": [
       "<Figure size 662.4x360 with 1 Axes>"
      ]
     },
     "metadata": {
      "needs_background": "light"
     },
     "output_type": "display_data"
    },
    {
     "data": {
      "image/png": "[encoded data removed]",
      "text/plain": [
       "<Figure size 662.4x360 with 1 Axes>"
      ]
     },
     "metadata": {
      "needs_background": "light"
     },
     "output_type": "display_data"
    }
   ],
   "source": [
    "for feature in df.columns:\n",
    "    \n",
    "\n",
    "    horizontal_bar_plot(*compute_posterior_distributions(feature, df))\n",
    "    plt.title(f'unknown feature: {feature}')\n",
    "    plt.ylabel('known other feature values')\n",
    "    plt.show()"
   ]
  },
  {
   "cell_type": "markdown",
   "metadata": {},
   "source": [
    "The CIG value for row 0, feature 'A' is computed as the KL divergence between the prior distribution for feature 'A'\n",
    "and the posterior distribution for the unknown feature 'A' and given value 'g' (the first row in the posterior\n",
    "distribution graph).\n",
    "The KL divergence is defined as a weighted sum of the logarithmic differences of **all** corresponding elements in\n",
    "prior and posterior distribution.\n",
    "This leads to two potential problems:\n",
    "- The CIG value measures the element of surprise of the **combined** set of possible cell values in the posterior\n",
    "  distribution, thus overestimating the real element of surprise of a single cell value.\n",
    "- All cell values of a feature with the same posterior distribution get assigned the same CIG value, irrespective of\n",
    "  their individual change in probability.\n"
   ]
  },
  {
   "cell_type": "markdown",
   "metadata": {},
   "source": [
    "### Problem 2: unbounded CIG values\n",
    "The KL divergence has no upper bound. This makes it hard to find an acceptance threshold for which to consider the\n",
    "data to be safe."
   ]
  },
  {
   "cell_type": "markdown",
   "metadata": {},
   "source": [
    "## Cell Surprise Factor (CSF), an alternative measure of surprise\n",
    "\n",
    "The underlying idea of the CIG is to measure the element of surprise of a cell value when its context\n",
    "changes -- suppose we know every cell value of a person but one, how  surprising is this value compared to what we\n",
    "previously though about it?\n",
    "\n",
    "What if instead, we measure the change of probabilities of the cell value between prior and posterior distribution?\n",
    "Compute prior and posterior as before, but now look at how the probability of the cell value changes between those two distributions."
   ]
  },
  {
   "cell_type": "markdown",
   "metadata": {},
   "source": [
    "## Example\n",
    "For our dataset from before, the CSF values are as follows:"
   ]
  },
  {
   "cell_type": "code",
   "execution_count": 5,
   "metadata": {},
   "outputs": [
    {
     "data": {
      "text/plain": [
       "<AxesSubplot:>"
      ]
     },
     "execution_count": 5,
     "metadata": {},
     "output_type": "execute_result"
    },
    {
     "data": {
      "image/png": "[encoded data removed]",
      "text/plain": [
       "<Figure size 432x288 with 2 Axes>"
      ]
     },
     "metadata": {
      "needs_background": "light"
     },
     "output_type": "display_data"
    }
   ],
   "source": [
    "df_csf = piflib.compute_csfs(df)\n",
    "color_map = matplotlib.colors.ListedColormap(\n",
    "        sns.color_palette(\"RdYlGn\", 256).as_hex()[::-1])\n",
    "sns.heatmap(df_csf, vmin=0, vmax=1, cmap=color_map, annot=df, fmt='s')"
   ]
  },
  {
   "cell_type": "markdown",
   "metadata": {},
   "source": [
    "And the corresponding CIG values:"
   ]
  },
  {
   "cell_type": "code",
   "execution_count": 6,
   "metadata": {},
   "outputs": [
    {
     "data": {
      "text/plain": [
       "<AxesSubplot:>"
      ]
     },
     "execution_count": 6,
     "metadata": {},
     "output_type": "execute_result"
    },
    {
     "data": {
      "image/png": "[encoded data removed]",
      "text/plain": [
       "<Figure size 432x288 with 2 Axes>"
      ]
     },
     "metadata": {
      "needs_background": "light"
     },
     "output_type": "display_data"
    }
   ],
   "source": [
    "df_cig = piflib.compute_cigs(df)\n",
    "sns.heatmap(df_cig, cmap=color_map, annot=df, fmt='s')"
   ]
  },
  {
   "cell_type": "markdown",
   "metadata": {},
   "source": [
    "Here I want to highlight the difference between CIG and CSF.\n",
    "The probability of the first cell value, the 'a' in row 0 is 1/3 in the distribution of the feature 'A'.\n",
    "In the posterior distribution of 'A' given 'B' = 'g' the probability for 'a' stays the same at 1/3. However, the\n",
    "probability for 'b' changes from 2/9 to 2/3, the one for 'c' from 4/9 to 0.\n",
    "\n",
    "This in turn means that the CIG value will be > zero, as the posterior is different from the prior distribution, but\n",
    "the CSF value is 0, as the probability of 'a' did not change between the two distributions.\n",
    "\n",
    "We argue that the CSF is a better measure of surprise for a cell value, as it reflects the change, or surprise, of the\n",
    "cell value alone, without interference of the other elements in the posterior.\n",
    "\n",
    "In the case above, as the probability for 'A' does not change, there is no element of surprise.\n",
    "However, as the two distributions are different, the KL divergence will be greater than zero, thus falsely indicating\n",
    "that the 'A' value in row 0 is unusual."
   ]
  },
  {
   "cell_type": "markdown",
   "metadata": {},
   "source": [
    "## Going bigger - hackathon dataset"
   ]
  },
  {
   "cell_type": "code",
   "execution_count": 7,
   "metadata": {},
   "outputs": [
    {
     "data": {
      "text/html": [
       "<div>\n",
       "<style scoped>\n",
       "    .dataframe tbody tr th:only-of-type {\n",
       "        vertical-align: middle;\n",
       "    }\n",
       "\n",
       "    .dataframe tbody tr th {\n",
       "        vertical-align: top;\n",
       "    }\n",
       "\n",
       "    .dataframe thead th {\n",
       "        text-align: right;\n",
       "    }\n",
       "</style>\n",
       "<table border=\"1\" class=\"dataframe\">\n",
       "  <thead>\n",
       "    <tr style=\"text-align: right;\">\n",
       "      <th></th>\n",
       "      <th>gender</th>\n",
       "      <th>AGE</th>\n",
       "      <th>POSTCODE</th>\n",
       "      <th>blood_group</th>\n",
       "      <th>eye_color</th>\n",
       "      <th>job</th>\n",
       "    </tr>\n",
       "  </thead>\n",
       "  <tbody>\n",
       "    <tr>\n",
       "      <th>0</th>\n",
       "      <td>F</td>\n",
       "      <td>99</td>\n",
       "      <td>2649</td>\n",
       "      <td>B-</td>\n",
       "      <td>Brown</td>\n",
       "      <td>Psychologist, counselling</td>\n",
       "    </tr>\n",
       "    <tr>\n",
       "      <th>1</th>\n",
       "      <td>M</td>\n",
       "      <td>108</td>\n",
       "      <td>1780</td>\n",
       "      <td>A-</td>\n",
       "      <td>Hazel</td>\n",
       "      <td>Personnel officer</td>\n",
       "    </tr>\n",
       "    <tr>\n",
       "      <th>2</th>\n",
       "      <td>M</td>\n",
       "      <td>59</td>\n",
       "      <td>2940</td>\n",
       "      <td>B+</td>\n",
       "      <td>Hazel</td>\n",
       "      <td>Tourism officer</td>\n",
       "    </tr>\n",
       "    <tr>\n",
       "      <th>3</th>\n",
       "      <td>M</td>\n",
       "      <td>58</td>\n",
       "      <td>2945</td>\n",
       "      <td>B+</td>\n",
       "      <td>Blue</td>\n",
       "      <td>Make</td>\n",
       "    </tr>\n",
       "    <tr>\n",
       "      <th>4</th>\n",
       "      <td>M</td>\n",
       "      <td>30</td>\n",
       "      <td>2729</td>\n",
       "      <td>AB-</td>\n",
       "      <td>Brown</td>\n",
       "      <td>Forest/woodland manager</td>\n",
       "    </tr>\n",
       "  </tbody>\n",
       "</table>\n",
       "</div>"
      ],
      "text/plain": [
       "  gender  AGE  POSTCODE blood_group eye_color                        job\n",
       "0      F   99      2649          B-     Brown  Psychologist, counselling\n",
       "1      M  108      1780          A-     Hazel          Personnel officer\n",
       "2      M   59      2940          B+     Hazel            Tourism officer\n",
       "3      M   58      2945          B+      Blue                       Make\n",
       "4      M   30      2729         AB-     Brown    Forest/woodland manager"
      ]
     },
     "execution_count": 7,
     "metadata": {},
     "output_type": "execute_result"
    }
   ],
   "source": [
    "hack_features = ['gender', 'AGE', 'POSTCODE', 'blood_group', 'eye_color', 'job']\n",
    "hack_data = pd.read_csv('data/hackathon.csv')[hack_features]\n",
    "hack_data = hack_data.fillna('Unemployed')\n",
    "hack_data.head()"
   ]
  },
  {
   "cell_type": "markdown",
   "metadata": {},
   "source": [
    "We now compute the CSF values and display them as a heatmap, with colors ranging from green for 'save' values to red for the most at risk values."
   ]
  },
  {
   "cell_type": "code",
   "execution_count": 8,
   "metadata": {},
   "outputs": [
    {
     "data": {
      "text/plain": [
       "<AxesSubplot:>"
      ]
     },
     "execution_count": 8,
     "metadata": {},
     "output_type": "execute_result"
    },
    {
     "data": {
      "image/png": "[encoded data removed]",
      "text/plain": [
       "<Figure size 432x288 with 2 Axes>"
      ]
     },
     "metadata": {
      "needs_background": "light"
     },
     "output_type": "display_data"
    }
   ],
   "source": [
    "hack_csf = piflib.compute_csfs(hack_data)\n",
    "sns.heatmap(hack_csf, cmap=color_map)"
   ]
  },
  {
   "cell_type": "markdown",
   "metadata": {},
   "source": [
    "Looking at the distribution of CSF values, we can see that the changes are quite substantial."
   ]
  },
  {
   "cell_type": "code",
   "execution_count": 9,
   "metadata": {},
   "outputs": [
    {
     "data": {
      "text/html": [
       "<div>\n",
       "<style scoped>\n",
       "    .dataframe tbody tr th:only-of-type {\n",
       "        vertical-align: middle;\n",
       "    }\n",
       "\n",
       "    .dataframe tbody tr th {\n",
       "        vertical-align: top;\n",
       "    }\n",
       "\n",
       "    .dataframe thead th {\n",
       "        text-align: right;\n",
       "    }\n",
       "</style>\n",
       "<table border=\"1\" class=\"dataframe\">\n",
       "  <thead>\n",
       "    <tr style=\"text-align: right;\">\n",
       "      <th></th>\n",
       "      <th>gender</th>\n",
       "      <th>AGE</th>\n",
       "      <th>POSTCODE</th>\n",
       "      <th>blood_group</th>\n",
       "      <th>eye_color</th>\n",
       "      <th>job</th>\n",
       "    </tr>\n",
       "  </thead>\n",
       "  <tbody>\n",
       "    <tr>\n",
       "      <th>count</th>\n",
       "      <td>38462.000000</td>\n",
       "      <td>38462.000000</td>\n",
       "      <td>38462.000000</td>\n",
       "      <td>38462.000000</td>\n",
       "      <td>38462.000000</td>\n",
       "      <td>38462.000000</td>\n",
       "    </tr>\n",
       "    <tr>\n",
       "      <th>mean</th>\n",
       "      <td>0.498328</td>\n",
       "      <td>0.977707</td>\n",
       "      <td>0.846887</td>\n",
       "      <td>0.869045</td>\n",
       "      <td>0.795840</td>\n",
       "      <td>0.966596</td>\n",
       "    </tr>\n",
       "    <tr>\n",
       "      <th>std</th>\n",
       "      <td>0.028408</td>\n",
       "      <td>0.086362</td>\n",
       "      <td>0.307341</td>\n",
       "      <td>0.056100</td>\n",
       "      <td>0.045859</td>\n",
       "      <td>0.074689</td>\n",
       "    </tr>\n",
       "    <tr>\n",
       "      <th>min</th>\n",
       "      <td>0.017524</td>\n",
       "      <td>0.133263</td>\n",
       "      <td>0.049805</td>\n",
       "      <td>0.073070</td>\n",
       "      <td>0.131810</td>\n",
       "      <td>0.331747</td>\n",
       "    </tr>\n",
       "    <tr>\n",
       "      <th>25%</th>\n",
       "      <td>0.482476</td>\n",
       "      <td>0.990952</td>\n",
       "      <td>0.996880</td>\n",
       "      <td>0.873252</td>\n",
       "      <td>0.798502</td>\n",
       "      <td>0.998414</td>\n",
       "    </tr>\n",
       "    <tr>\n",
       "      <th>50%</th>\n",
       "      <td>0.482476</td>\n",
       "      <td>0.991394</td>\n",
       "      <td>0.997660</td>\n",
       "      <td>0.874682</td>\n",
       "      <td>0.800348</td>\n",
       "      <td>0.998648</td>\n",
       "    </tr>\n",
       "    <tr>\n",
       "      <th>75%</th>\n",
       "      <td>0.517524</td>\n",
       "      <td>0.991654</td>\n",
       "      <td>0.999740</td>\n",
       "      <td>0.876007</td>\n",
       "      <td>0.801232</td>\n",
       "      <td>0.998804</td>\n",
       "    </tr>\n",
       "    <tr>\n",
       "      <th>max</th>\n",
       "      <td>0.517524</td>\n",
       "      <td>0.999740</td>\n",
       "      <td>0.999974</td>\n",
       "      <td>0.877047</td>\n",
       "      <td>0.801440</td>\n",
       "      <td>0.999402</td>\n",
       "    </tr>\n",
       "  </tbody>\n",
       "</table>\n",
       "</div>"
      ],
      "text/plain": [
       "             gender           AGE      POSTCODE   blood_group     eye_color  \\\n",
       "count  38462.000000  38462.000000  38462.000000  38462.000000  38462.000000   \n",
       "mean       0.498328      0.977707      0.846887      0.869045      0.795840   \n",
       "std        0.028408      0.086362      0.307341      0.056100      0.045859   \n",
       "min        0.017524      0.133263      0.049805      0.073070      0.131810   \n",
       "25%        0.482476      0.990952      0.996880      0.873252      0.798502   \n",
       "50%        0.482476      0.991394      0.997660      0.874682      0.800348   \n",
       "75%        0.517524      0.991654      0.999740      0.876007      0.801232   \n",
       "max        0.517524      0.999740      0.999974      0.877047      0.801440   \n",
       "\n",
       "                job  \n",
       "count  38462.000000  \n",
       "mean       0.966596  \n",
       "std        0.074689  \n",
       "min        0.331747  \n",
       "25%        0.998414  \n",
       "50%        0.998648  \n",
       "75%        0.998804  \n",
       "max        0.999402  "
      ]
     },
     "execution_count": 9,
     "metadata": {},
     "output_type": "execute_result"
    }
   ],
   "source": [
    "hack_csf.describe()"
   ]
  },
  {
   "cell_type": "markdown",
   "metadata": {},
   "source": [
    "CSF values range from 0 to 1, where 0 stands for no surprise and 1 for maximum surprise (or difference from the prior believe). We can see that the mean CSF values are very high. This is due to the fact that almost every row is unique, thus forming mostly cohorts of 1 for the posterior distributions.\n",
    "\n",
    "Let's try to reduce the numbers by removing the features 'job' and 'POSTCODE'."
   ]
  },
  {
   "cell_type": "code",
   "execution_count": 10,
   "metadata": {},
   "outputs": [
    {
     "data": {
      "text/plain": [
       "<AxesSubplot:>"
      ]
     },
     "execution_count": 10,
     "metadata": {},
     "output_type": "execute_result"
    },
    {
     "data": {
      "image/png": "[encoded data removed]",
      "text/plain": [
       "<Figure size 432x288 with 2 Axes>"
      ]
     },
     "metadata": {
      "needs_background": "light"
     },
     "output_type": "display_data"
    }
   ],
   "source": [
    "cols = ['gender', 'AGE', 'blood_group', 'eye_color']\n",
    "sub_hack_csf = piflib.compute_csfs(hack_data[cols])\n",
    "sns.heatmap(sub_hack_csf, cmap=color_map, vmax=1)"
   ]
  },
  {
   "cell_type": "code",
   "execution_count": 12,
   "metadata": {},
   "outputs": [
    {
     "data": {
      "text/html": [
       "<div>\n",
       "<style scoped>\n",
       "    .dataframe tbody tr th:only-of-type {\n",
       "        vertical-align: middle;\n",
       "    }\n",
       "\n",
       "    .dataframe tbody tr th {\n",
       "        vertical-align: top;\n",
       "    }\n",
       "\n",
       "    .dataframe thead th {\n",
       "        text-align: right;\n",
       "    }\n",
       "</style>\n",
       "<table border=\"1\" class=\"dataframe\">\n",
       "  <thead>\n",
       "    <tr style=\"text-align: right;\">\n",
       "      <th></th>\n",
       "      <th>gender</th>\n",
       "      <th>AGE</th>\n",
       "      <th>blood_group</th>\n",
       "      <th>eye_color</th>\n",
       "    </tr>\n",
       "  </thead>\n",
       "  <tbody>\n",
       "    <tr>\n",
       "      <th>count</th>\n",
       "      <td>38462.000000</td>\n",
       "      <td>38462.000000</td>\n",
       "      <td>38462.000000</td>\n",
       "      <td>38462.000000</td>\n",
       "    </tr>\n",
       "    <tr>\n",
       "      <th>mean</th>\n",
       "      <td>0.136386</td>\n",
       "      <td>0.003600</td>\n",
       "      <td>0.048995</td>\n",
       "      <td>0.072766</td>\n",
       "    </tr>\n",
       "    <tr>\n",
       "      <th>std</th>\n",
       "      <td>0.104873</td>\n",
       "      <td>0.003025</td>\n",
       "      <td>0.041834</td>\n",
       "      <td>0.059569</td>\n",
       "    </tr>\n",
       "    <tr>\n",
       "      <th>min</th>\n",
       "      <td>0.006286</td>\n",
       "      <td>0.000001</td>\n",
       "      <td>0.000305</td>\n",
       "      <td>0.000348</td>\n",
       "    </tr>\n",
       "    <tr>\n",
       "      <th>25%</th>\n",
       "      <td>0.053905</td>\n",
       "      <td>0.001375</td>\n",
       "      <td>0.018391</td>\n",
       "      <td>0.027585</td>\n",
       "    </tr>\n",
       "    <tr>\n",
       "      <th>50%</th>\n",
       "      <td>0.117524</td>\n",
       "      <td>0.002807</td>\n",
       "      <td>0.039136</td>\n",
       "      <td>0.058666</td>\n",
       "    </tr>\n",
       "    <tr>\n",
       "      <th>75%</th>\n",
       "      <td>0.184190</td>\n",
       "      <td>0.005016</td>\n",
       "      <td>0.069355</td>\n",
       "      <td>0.103322</td>\n",
       "    </tr>\n",
       "    <tr>\n",
       "      <th>max</th>\n",
       "      <td>0.517524</td>\n",
       "      <td>0.022063</td>\n",
       "      <td>0.877047</td>\n",
       "      <td>0.801440</td>\n",
       "    </tr>\n",
       "  </tbody>\n",
       "</table>\n",
       "</div>"
      ],
      "text/plain": [
       "             gender           AGE   blood_group     eye_color\n",
       "count  38462.000000  38462.000000  38462.000000  38462.000000\n",
       "mean       0.136386      0.003600      0.048995      0.072766\n",
       "std        0.104873      0.003025      0.041834      0.059569\n",
       "min        0.006286      0.000001      0.000305      0.000348\n",
       "25%        0.053905      0.001375      0.018391      0.027585\n",
       "50%        0.117524      0.002807      0.039136      0.058666\n",
       "75%        0.184190      0.005016      0.069355      0.103322\n",
       "max        0.517524      0.022063      0.877047      0.801440"
      ]
     },
     "execution_count": 12,
     "metadata": {},
     "output_type": "execute_result"
    }
   ],
   "source": [
    "sub_hack_csf.describe()"
   ]
  },
  {
   "cell_type": "markdown",
   "metadata": {},
   "source": [
    "This already looks a lot better. The mean CSF values are very low now. However, there are some rows in the dataset with\n",
    "high CSF values. These rows still stand out and thus have a higher risk of re-identification."
   ]
  },
  {
   "cell_type": "markdown",
   "metadata": {},
   "source": [
    "## Conclusions\n",
    "\n",
    "The CSF, defined as the absolute difference between two probabilities, is always bounded between 0 and 1. Thus, we have\n",
    "fixed bounds and might be able to transfer learnings from one dataset to another more easily.\n",
    "\n",
    "The CSF measures the element of surprise of a single cell value, whereas the CIG measures the element of surprise of the\n",
    "posterior distribution. We believe that the CSF provides are finer granular, and true-er, picture of the element of\n",
    "surprise of a cell value contained in a dataset.\n",
    "\n"
   ]
  },
  {
   "cell_type": "code",
   "execution_count": null,
   "metadata": {},
   "outputs": [],
   "source": []
  }
 ],
 "metadata": {
  "kernelspec": {
   "display_name": "Python 3",
   "language": "python",
   "name": "python3"
  },
  "language_info": {
   "codemirror_mode": {
    "name": "ipython",
    "version": 3
   },
   "file_extension": ".py",
   "mimetype": "text/x-python",
   "name": "python",
   "nbconvert_exporter": "python",
   "pygments_lexer": "ipython3",
   "version": "3.9.2"
  }
 },
 "nbformat": 4,
 "nbformat_minor": 4
}